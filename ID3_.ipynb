{
  "nbformat": 4,
  "nbformat_minor": 0,
  "metadata": {
    "colab": {
      "name": "ID#.ipynb",
      "version": "0.3.2",
      "provenance": [],
      "collapsed_sections": []
    },
    "kernelspec": {
      "display_name": "Python 3",
      "language": "python",
      "name": "python3"
    },
    "language_info": {
      "codemirror_mode": {
        "name": "ipython",
        "version": 3
      },
      "file_extension": ".py",
      "mimetype": "text/x-python",
      "name": "python",
      "nbconvert_exporter": "python",
      "pygments_lexer": "ipython3",
      "version": "3.7.1"
    }
  },
  "cells": [
    {
      "cell_type": "code",
      "metadata": {
        "colab_type": "code",
        "id": "eVXefQXOrrZd",
        "outputId": "bb8beec2-d1e6-4216-f693-7d9693f19d82",
        "colab": {
          "resources": {
            "http://localhost:8080/nbextensions/google.colab/files.js": {
              "data": "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",
              "headers": [
                [
                  "content-type",
                  "application/javascript"
                ]
              ],
              "ok": true,
              "status": 200,
              "status_text": "OK"
            }
          },
          "base_uri": "https://localhost:8080/",
          "height": 120
        }
      },
      "source": [
        "from google.colab import files\n",
        "files.upload()"
      ],
      "execution_count": 0,
      "outputs": [
        {
          "output_type": "display_data",
          "data": {
            "text/html": [
              "\n",
              "     <input type=\"file\" id=\"files-e0f948bb-8728-462f-bd9f-c3674a9bca67\" name=\"files[]\" multiple disabled />\n",
              "     <output id=\"result-e0f948bb-8728-462f-bd9f-c3674a9bca67\">\n",
              "      Upload widget is only available when the cell has been executed in the\n",
              "      current browser session. Please rerun this cell to enable.\n",
              "      </output>\n",
              "      <script src=\"/nbextensions/google.colab/files.js\"></script> "
            ],
            "text/plain": [
              "<IPython.core.display.HTML object>"
            ]
          },
          "metadata": {
            "tags": []
          }
        },
        {
          "output_type": "stream",
          "text": [
            "Saving file.csv to file.csv\n"
          ],
          "name": "stdout"
        },
        {
          "output_type": "execute_result",
          "data": {
            "text/plain": [
              "{'file.csv': b'age income student credit-rating result \\r\\nyouth high no fair no \\r\\nyouth high no excellent no \\r\\nmiddle high no fair yes \\r\\nsenior medium no fair yes \\r\\nsenior low yes fair yes \\r\\nsenior low yes excellent no \\r\\nmiddle low yes excellent yes \\r\\nyouth medium no fair no \\r\\nyouth low yes fair yes \\r\\nsenior medium yes fair yes \\r\\nyouth medium yes excellent yes \\r\\nmiddle medium no excellent yes \\r\\nmiddle high yes fair yes \\r\\nsenior medium no excellent no \\r\\n'}"
            ]
          },
          "metadata": {
            "tags": []
          },
          "execution_count": 168
        }
      ]
    },
    {
      "cell_type": "code",
      "metadata": {
        "colab_type": "code",
        "id": "he5GmuVB1b4E",
        "colab": {}
      },
      "source": [
        "import pandas as pd\n",
        "import numpy as np\n",
        "df = pd.read_csv('file2.csv', header=0, delim_whitespace=True)"
      ],
      "execution_count": 0,
      "outputs": []
    },
    {
      "cell_type": "code",
      "metadata": {
        "colab_type": "code",
        "id": "DblZVTa8jpgN",
        "colab": {}
      },
      "source": [
        "mainTab=np.zeros(df.shape,dtype=\"uint8\")\n",
        "\n",
        "for i in range(df.shape[1]) :\n",
        "    mainTab[:,i] = turnIntoNumbers(list(df.iloc[:,i]))"
      ],
      "execution_count": 0,
      "outputs": []
    },
    {
      "cell_type": "code",
      "metadata": {
        "colab_type": "code",
        "id": "39d8_ixVjw98",
        "colab": {}
      },
      "source": [
        "def turnIntoNumbers(myList) :\n",
        "    key=list(set(myList))\n",
        "    #print(key)\n",
        "    newList=[]\n",
        "    for i in range(len(myList)) :\n",
        "        newList.append(key.index(myList[i]))\n",
        "    return newList"
      ],
      "execution_count": 0,
      "outputs": []
    },
    {
      "cell_type": "code",
      "metadata": {
        "colab_type": "code",
        "id": "AzR9Cuk1mh7M",
        "colab": {}
      },
      "source": [
        "class TreeNode :\n",
        "    def __init__(self,matrix,keyColumn):\n",
        "        self.table=matrix\n",
        "        self.children=[]\n",
        "        self.keyColumn=keyColumn"
      ],
      "execution_count": 0,
      "outputs": []
    },
    {
      "cell_type": "code",
      "metadata": {
        "colab_type": "code",
        "id": "7rNZxR_Hn7mq",
        "outputId": "8769b8e8-ad47-4b5c-d3a5-932d3ecdbfd7",
        "colab": {
          "base_uri": "https://localhost:8080/",
          "height": 2180419
        }
      },
      "source": [
        "import copy\n",
        "root=TreeNode(mainTab,None)\n",
        "\n",
        "NodesToProcess=[root]\n",
        "\n",
        "countingIterations=0\n",
        "while len(NodesToProcess) != 0 :\n",
        "    \n",
        "    countingIterations+=1\n",
        "    print(\"Iteration \",countingIterations)\n",
        "    print(NodesToProcess[0].table)\n",
        "        \n",
        "    chosen=chooseColumn(NodesToProcess[0].table)\n",
        "    \n",
        "    if chosen == None :\n",
        "        #print(\"Done\")\n",
        "        del NodesToProcess[0]\n",
        "        continue\n",
        "    #print(chosen)\n",
        "    childData=list(set(NodesToProcess[0].table[:,chosen]))\n",
        "    \n",
        "    myDict={i:list(NodesToProcess[0].table[:,chosen]).count(i) for i in childData}\n",
        "    \n",
        "    divTabs=[]\n",
        "    \n",
        "    for i in myDict.keys() :\n",
        "        newArray=np.zeros((myDict[i],df.shape[1]),dtype='uint8')\n",
        "        divTabs.append(newArray)\n",
        "    \n",
        "    divTabs=np.array(divTabs)\n",
        "    tabIndexes={}\n",
        "    \n",
        "    #print(tabIndexes)\n",
        "    \n",
        "    newTab=NodesToProcess[0].table\n",
        "    #print(newTab.shape)\n",
        "    for i in range(newTab.shape[0]) :\n",
        "        t=newTab[i,chosen]\n",
        "        divTabs[childData.index(t)][tabIndexes.get(t,0)]=newTab[i]\n",
        "        tabIndexes[t]=tabIndexes.get(t,0)+1\n",
        "        \n",
        "    #print(divTabs)\n",
        "    for i in range(len(childData)) :\n",
        "        newObj=TreeNode(divTabs[i],chosen)\n",
        "        print(\"Div tab is \")\n",
        "        print(divTabs[i])\n",
        "        print(\"Chosen is \",chosen)\n",
        "        NodesToProcess[0].children.append(newObj)\n",
        "        NodesToProcess.append(newObj)\n",
        "        \n",
        "        \n",
        "    del NodesToProcess[0]\n",
        "    "
      ],
      "execution_count": 0,
      "outputs": [
        {
          "output_type": "stream",
          "text": [
            "Iteration  1\n",
            "[[1 2 1 0 1]\n",
            " [1 2 1 1 1]\n",
            " [2 2 1 0 0]\n",
            " [0 1 1 0 0]\n",
            " [0 0 0 0 0]\n",
            " [0 0 0 1 1]\n",
            " [2 0 0 1 0]\n",
            " [1 1 1 0 1]\n",
            " [1 0 0 0 0]\n",
            " [0 1 0 0 0]\n",
            " [1 1 0 1 0]\n",
            " [2 1 1 1 0]\n",
            " [2 2 0 0 0]\n",
            " [0 1 1 1 1]]\n",
            "Div tab is \n",
            "[[0 1 1 0 0]\n",
            " [0 0 0 0 0]\n",
            " [0 0 0 1 1]\n",
            " [0 1 0 0 0]\n",
            " [0 1 1 1 1]]\n",
            "Chosen is  0\n",
            "Div tab is \n",
            "[[1 2 1 0 1]\n",
            " [1 2 1 1 1]\n",
            " [1 1 1 0 1]\n",
            " [1 0 0 0 0]\n",
            " [1 1 0 1 0]]\n",
            "Chosen is  0\n",
            "Div tab is \n",
            "[[2 2 1 0 0]\n",
            " [2 0 0 1 0]\n",
            " [2 1 1 1 0]\n",
            " [2 2 0 0 0]]\n",
            "Chosen is  0\n",
            "Iteration  2\n",
            "[[0 1 1 0 0]\n",
            " [0 0 0 0 0]\n",
            " [0 0 0 1 1]\n",
            " [0 1 0 0 0]\n",
            " [0 1 1 1 1]]\n",
            "Div tab is \n",
            "[[0 1 1 0 0]\n",
            " [0 0 0 0 0]\n",
            " [0 1 0 0 0]]\n",
            "Chosen is  3\n",
            "Div tab is \n",
            "[[0 0 0 1 1]\n",
            " [0 1 1 1 1]]\n",
            "Chosen is  3\n",
            "Iteration  3\n",
            "[[1 2 1 0 1]\n",
            " [1 2 1 1 1]\n",
            " [1 1 1 0 1]\n",
            " [1 0 0 0 0]\n",
            " [1 1 0 1 0]]\n",
            "Div tab is \n",
            "[[1 0 0 0 0]\n",
            " [1 1 0 1 0]]\n",
            "Chosen is  2\n",
            "Div tab is \n",
            "[[1 2 1 0 1]\n",
            " [1 2 1 1 1]\n",
            " [1 1 1 0 1]]\n",
            "Chosen is  2\n",
            "Iteration  4\n",
            "[[2 2 1 0 0]\n",
            " [2 0 0 1 0]\n",
            " [2 1 1 1 0]\n",
            " [2 2 0 0 0]]\n",
            "Iteration  5\n",
            "[[0 1 1 0 0]\n",
            " [0 0 0 0 0]\n",
            " [0 1 0 0 0]]\n",
            "Iteration  6\n",
            "[[0 0 0 1 1]\n",
            " [0 1 1 1 1]]\n",
            "Iteration  7\n",
            "[[1 0 0 0 0]\n",
            " [1 1 0 1 0]]\n",
            "Iteration  8\n",
            "[[1 2 1 0 1]\n",
            " [1 2 1 1 1]\n",
            " [1 1 1 0 1]]\n"
          ],
          "name": "stdout"
        }
      ]
    },
    {
      "cell_type": "code",
      "metadata": {
        "colab_type": "code",
        "id": "0PlCd3vaoxYt",
        "colab": {}
      },
      "source": [
        "import math\n",
        "def entropy(newList) :\n",
        "\n",
        "    myDict1={i:list(newList).count(i) for i in set(newList)}\n",
        "    #print(myDict)\n",
        "    Entropy=0\n",
        "    for i in myDict1.keys() :\n",
        "        Entropy+=-(myDict1[i]/len(newList))*((math.log10(myDict1[i]/len(newList))/math.log10(2)))\n",
        "        \n",
        "    #print(\"Entropy\",Entropy)\n",
        "    return Entropy\n",
        "\n",
        "def chooseColumn(matrix) :\n",
        "    \n",
        "    #print(matrix)\n",
        "    newList=matrix[:,matrix.shape[1]-1]\n",
        "    if len(set(newList)) == 1 :\n",
        "        #print(\"done\")\n",
        "        return None\n",
        "    \n",
        "    info=entropy(newList)\n",
        "    #print(len(newList))\n",
        "    #print(\"The Entropy is \",info)\n",
        "    columnVals=[]\n",
        "    for i in range(matrix.shape[1]-1) :\n",
        "        #print(\"Attribute \",list(df)[i])\n",
        "        #print(matrix[:,i])\n",
        "        myDict={j:(list(matrix[:,i]).count(j)) for j in list(set(matrix[:,i]))}\n",
        "        #print(myDict)\n",
        "        #print(list(set(matrix[:,i])))\n",
        "        #print(list(matrix[:,i]).count(2))\n",
        "        if len(myDict) == 1 :\n",
        "            columnVals.append(float('-inf'))\n",
        "            continue\n",
        "        \n",
        "        infoAttr=0\n",
        "        for j in myDict.keys() :\n",
        "            temp=myDict[j]/matrix.shape[0]\n",
        "            #print(\"The divsion is \",myDict[j],end=\"/\")\n",
        "            #print(matrix.shape[0])\n",
        "            newList=[]\n",
        "            for k in range(matrix.shape[0]) :\n",
        "                if matrix[k,i] == j :\n",
        "                    newList.append(matrix[k][matrix.shape[1]-1])\n",
        "            \n",
        "            #print(newList)\n",
        "            mul=entropy(newList)\n",
        "            #print(\"The mulitplication Entropy is \",mul)\n",
        "            temp*=mul\n",
        "            #print(\"Particular\",temp)\n",
        "            infoAttr+=-temp\n",
        "        #print(\"End\")\n",
        "        #print(\"Gain of \",list(df)[i],end=\" \")\n",
        "        #print(info+infoAttr)\n",
        "        columnVals.append(info+infoAttr)\n",
        "    \n",
        "    #print(columnVals)\n",
        "    return(np.argmax(columnVals))\n",
        "    \n",
        "#chooseColumn(mainTab)\n",
        "#print(mainTab.shape)"
      ],
      "execution_count": 0,
      "outputs": []
    },
    {
      "cell_type": "code",
      "metadata": {
        "colab_type": "code",
        "id": "--ml_ijNqhsq",
        "outputId": "6b885e32-bd8e-4e14-9f96-72cbd89cfb3d",
        "colab": {
          "base_uri": "https://localhost:8080/",
          "height": 34
        }
      },
      "source": [
        "def printingTab(obj,myStr) :\n",
        "    #print(obj.keyColumn,end=\",\")\n",
        "    if obj.keyColumn == None :\n",
        "            myStr+=\"OrigTab\"\n",
        "    else :\n",
        "        myStr+=str(obj.keyColumn)\n",
        "        myStr+=\",\"\n",
        "    if obj.keyColumn!=None :\n",
        "        #print(obj.table[0][obj.keyColumn],end=\" \")\n",
        "        myStr+=str(obj.table[0][obj.keyColumn])\n",
        "        myStr+=\" \"\n",
        "    #print(\" --> \",end=\" \")\n",
        "    myStr+=\" --> \"\n",
        "    if len(obj.children) == 0 :\n",
        "        #print(obj.table[0][obj.table.shape[1]-1])\n",
        "        myStr+=str(obj.table[0][obj.table.shape[1]-1])\n",
        "        print(myStr)\n",
        "        return\n",
        "    \n",
        "    for i in obj.children :\n",
        "            printingTab(i,myStr)\n",
        "        \n",
        "    \n",
        "printingTab(root,\" \")"
      ],
      "execution_count": 0,
      "outputs": [
        {
          "output_type": "stream",
          "text": [
            " OrigTab --> 0,0  --> 3,0  --> 0\n",
            " OrigTab --> 0,0  --> 3,1  --> 1\n",
            " OrigTab --> 0,1  --> 2,0  --> 0\n",
            " OrigTab --> 0,1  --> 2,1  --> 1\n",
            " OrigTab --> 0,2  --> 0\n"
          ],
          "name": "stdout"
        }
      ]
    },
    {
      "cell_type": "code",
      "metadata": {
        "id": "l2o-JoPLBry9",
        "colab_type": "code",
        "colab": {},
        "outputId": "c5d64d82-8b17-49ec-9a93-cd99a4e2435b"
      },
      "source": [
        "print(root.children[0].children[0].keyColumn)"
      ],
      "execution_count": 0,
      "outputs": [
        {
          "output_type": "stream",
          "text": [
            "3\n"
          ],
          "name": "stdout"
        }
      ]
    }
  ]
}